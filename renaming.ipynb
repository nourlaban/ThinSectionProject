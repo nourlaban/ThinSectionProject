{
 "cells": [
  {
   "cell_type": "code",
   "execution_count": 1,
   "id": "88c440fa-1414-412c-994b-15671f078feb",
   "metadata": {},
   "outputs": [],
   "source": [
    "import os \n",
    "import shutil"
   ]
  },
  {
   "cell_type": "code",
   "execution_count": 2,
   "id": "ade06915-9853-4d81-b99c-a9fb51bddbef",
   "metadata": {},
   "outputs": [
    {
     "name": "stdout",
     "output_type": "stream",
     "text": [
      "Renaming completed successfully!\n"
     ]
    }
   ],
   "source": [
    "\n",
    "\n",
    "# Define the path to the dataset directory\n",
    "dataset_dir = 'Dataset01-20240815T132523Z-001'\n",
    "\n",
    "# Loop through each sub-folder in the dataset directory\n",
    "for root, dirs, files in os.walk(dataset_dir):\n",
    "    for dir_name in dirs:\n",
    "        image_dir = os.path.join(root, dir_name, 'images')\n",
    "        label_dir = os.path.join(root, dir_name, 'labels')\n",
    "        \n",
    "        # Rename images in the image directory\n",
    "        if os.path.exists(image_dir):\n",
    "            for img_name in os.listdir(image_dir):\n",
    "                new_img_name = f\"{dir_name}_{img_name}\"\n",
    "                os.rename(os.path.join(image_dir, img_name), os.path.join(image_dir, new_img_name))\n",
    "        \n",
    "        # Rename labels in the label directory\n",
    "        if os.path.exists(label_dir):\n",
    "            for label_name in os.listdir(label_dir):\n",
    "                new_label_name = f\"{dir_name}_{label_name}\"\n",
    "                os.rename(os.path.join(label_dir, label_name), os.path.join(label_dir, new_label_name))\n",
    "\n",
    "print(\"Renaming completed successfully!\")\n"
   ]
  },
  {
   "cell_type": "code",
   "execution_count": 9,
   "id": "9e02946a-79fd-42ad-85c1-1f92fd44362a",
   "metadata": {},
   "outputs": [
    {
     "name": "stdout",
     "output_type": "stream",
     "text": [
      "Merging completed successfully!\n"
     ]
    }
   ],
   "source": [
    "\n",
    "merged_images_dir = 'Dataset01-20240815T132523Z-001\\images'\n",
    "merged_labels_dir = 'Dataset01-20240815T132523Z-001\\labels'\n",
    "\n",
    "# Create the merged directories if they don't exist\n",
    "os.makedirs(merged_images_dir, exist_ok=True)\n",
    "os.makedirs(merged_labels_dir, exist_ok=True)\n",
    "\n",
    "# Loop through each sub-folder in the dataset directory\n",
    "for root, dirs, files in os.walk(dataset_dir):\n",
    "    for dir_name in dirs:\n",
    "        image_dir = os.path.join(root, dir_name, 'images')\n",
    "        label_dir = os.path.join(root, dir_name, 'labels')\n",
    "        \n",
    "        # Move images to the merged images folder\n",
    "        if os.path.exists(image_dir):\n",
    "            for img_name in os.listdir(image_dir):\n",
    "                src_image_path = os.path.join(image_dir, img_name)\n",
    "                dst_image_path = os.path.join(merged_images_dir, img_name)\n",
    "                shutil.move(src_image_path, dst_image_path)\n",
    "        \n",
    "        # Move labels to the merged labels folder\n",
    "        if os.path.exists(label_dir):\n",
    "            for label_name in os.listdir(label_dir):\n",
    "                src_label_path = os.path.join(label_dir, label_name)\n",
    "                dst_label_path = os.path.join(merged_labels_dir, label_name)\n",
    "                shutil.move(src_label_path, dst_label_path)\n",
    "\n",
    "print(\"Merging completed successfully!\")\n"
   ]
  },
  {
   "cell_type": "code",
   "execution_count": 11,
   "id": "d3e529eb-3782-4536-9921-49162ab86ea8",
   "metadata": {},
   "outputs": [
    {
     "name": "stdout",
     "output_type": "stream",
     "text": [
      "Mapping file created successfully!\n"
     ]
    }
   ],
   "source": [
    "output_txt_path = 'Dataset01-20240815T132523Z-001/image_label_mapping.txt'\n",
    "\n",
    "\n",
    "with open(output_txt_path, 'w') as file:\n",
    "   \n",
    "    for img_name in os.listdir(merged_images_dir):\n",
    "        label_name = img_name  # Modify this if your label names differ from image names\n",
    "        \n",
    "        # Construct the full paths (optional, if you want full paths in the txt file)\n",
    "        img_path = os.path.join(merged_images_dir, img_name)\n",
    "        label_path = os.path.join(merged_labels_dir, label_name)\n",
    "        \n",
    "        # Write the image-label pair to the text file\n",
    "        file.write(f\"{img_name} \\t {label_name}\\n\")\n",
    "\n",
    "print(\"Mapping file created successfully!\")"
   ]
  }
 ],
 "metadata": {
  "kernelspec": {
   "display_name": "Python 3 (ipykernel)",
   "language": "python",
   "name": "python3"
  },
  "language_info": {
   "codemirror_mode": {
    "name": "ipython",
    "version": 3
   },
   "file_extension": ".py",
   "mimetype": "text/x-python",
   "name": "python",
   "nbconvert_exporter": "python",
   "pygments_lexer": "ipython3",
   "version": "3.10.0"
  }
 },
 "nbformat": 4,
 "nbformat_minor": 5
}
